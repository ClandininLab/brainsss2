{
 "cells": [
  {
   "cell_type": "markdown",
   "id": "5b9c388f",
   "metadata": {
    "lines_to_next_cell": 2
   },
   "source": [
    "Testing reliability of anatomical signals in relation to number of acquisitions"
   ]
  },
  {
   "cell_type": "code",
   "execution_count": 10,
   "id": "624d5edb",
   "metadata": {},
   "outputs": [],
   "source": [
    "import nibabel as nib\n",
    "import os\n",
    "from brainsss2.imgmath import imgmath\n",
    "import ants\n",
    "import numpy as np\n",
    "import matplotlib.pyplot as plt\n",
    "import pandas as pd\n",
    "import seaborn as sns\n",
    "from brainsss2.columnwise_corrcoef_perf import AlmightyCorrcoefEinsumOptimized"
   ]
  },
  {
   "cell_type": "code",
   "execution_count": 15,
   "id": "006eeb68",
   "metadata": {},
   "outputs": [
    {
     "name": "stdout",
     "output_type": "stream",
     "text": [
      "computing mean of nii file\n",
      "saving mean of /data/brainsss/processed/fly_001/anat_0/imaging/anatomy_channel_1.nii to file /data/brainsss/processed/fly_001/anat_0/imaging/anatomy_channel_1_mean.nii\n"
     ]
    }
   ],
   "source": [
    "basedir = '/data/brainsss/processed/fly_001/anat_0/imaging/'\n",
    "\n",
    "origfile = os.path.join(basedir, 'anatomy_channel_1.nii')\n",
    "meanfile = os.path.join(basedir, 'anatomy_channel_1_mean.nii')\n",
    "if not os.path.exists(meanfile):\n",
    "    meanfile = imgmath(origfile, 'mean')\n",
    "\n",
    "meanimg = nib.load(meanfile)\n",
    "\n",
    "# get mask to select voxels\n",
    "maskfile = meanfile.replace('_mean.nii', '_mask.nii')\n",
    "if not os.path.exists(maskfile):\n",
    "    meanimg_ants = ants.image_read(meanfile)\n",
    "    mask_ants = ants.get_mask(meanimg_ants,\n",
    "        low_thresh=None,\n",
    "        cleanup=4)\n",
    "    mask_img = mask_ants.to_nibabel()\n",
    "    mask_img.header.set_data_dtype('uint8')\n",
    "    mask_img.header.set_zooms(meanimg.header.get_zooms())\n",
    "    mask_img.header.set_qform(meanimg.header.get_qform())\n",
    "    mask_img.header.set_sform(meanimg.header.get_sform())\n",
    "    mask_img.header.set_xyzt_units('mm', 'sec')\n",
    "    mask_img.to_filename(maskfile)\n",
    "else:\n",
    "    mask_img = nib.load(maskfile)\n",
    "\n"
   ]
  },
  {
   "cell_type": "code",
   "execution_count": 16,
   "id": "b4cc2fb9",
   "metadata": {
    "lines_to_next_cell": 2
   },
   "outputs": [
    {
     "name": "stdout",
     "output_type": "stream",
     "text": [
      "out_resolution: None\n",
      "out_resolution: 2\n"
     ]
    }
   ],
   "source": [
    "# compute reliability of random samples of varying size\n",
    "\n",
    "origimg = nib.load(origfile)\n",
    "\n",
    "def get_flattened_data(img, mask, start, length, out_resolution=None):\n",
    "    data = img.dataobj[:, :, :,start:(start + length)]\n",
    "    meandata = data.mean(axis=-1)\n",
    "    if out_resolution is not None:\n",
    "        res = [out_resolution] * 3\n",
    "        meanimg = nib.Nifti1Image(meandata, mask.affine)\n",
    "        meanimg.header.set_zooms(img.header.get_zooms()[:3])\n",
    "        meanimg.header.set_qform(img.header.get_qform())\n",
    "        meanimg.header.set_sform(img.header.get_sform())\n",
    "        meanimg.header.set_xyzt_units('mm', 'sec')\n",
    "        meanimg_resamp = nib.processing.resample_to_output(meanimg, res)\n",
    "        meandata = meanimg_resamp.get_fdata()\n",
    "        maskimg_resamp = nib.processing.resample_to_output(mask, res)\n",
    "        maskdata = (maskimg_resamp.get_fdata() > 1e-6).astype(int)\n",
    "    else:\n",
    "        maskdata = mask_img.get_fdata().astype(\"int\")\n",
    "    return(meandata[maskdata==1])\n",
    "\n",
    "cc = {}\n",
    "\n",
    "for out_resolution in [None, 2]:\n",
    "    print(f'out_resolution: {out_resolution}')\n",
    "    # get two sets of data\n",
    "    starts = [0, int(origimg.shape[-1]/2)]\n",
    "    cc[out_resolution] = {}\n",
    "    for length in range(2,51, 2):\n",
    "        data_vec = {}\n",
    "        for i, start in enumerate(starts):\n",
    "            data_vec[i] = get_flattened_data(\n",
    "                origimg, mask_img, start, length,\n",
    "                out_resolution=out_resolution)\n",
    "        cc[out_resolution][length] = AlmightyCorrcoefEinsumOptimized(\n",
    "            data_vec[0][:, np.newaxis], data_vec[1][:, np.newaxis])[0][0]\n",
    "        # print(f'{length} {cc[length]}')"
   ]
  },
  {
   "cell_type": "code",
   "execution_count": 17,
   "id": "63be71ab",
   "metadata": {},
   "outputs": [],
   "source": [
    "\n",
    "cc_df = pd.DataFrame(cc[None].items(), columns=['length', 'cc'])\n",
    "cc_df['out_resolution'] = 'orig'\n",
    "\n",
    "df_2 = pd.DataFrame(cc[2].items(), columns=['length', 'cc'])\n",
    "df_2['out_resolution'] = '2mm iso'\n",
    "\n",
    "full_df = pd.concat((cc_df,  df_2))\n",
    "full_df.head()\n",
    "full_df = full_df.reset_index()"
   ]
  },
  {
   "cell_type": "code",
   "execution_count": 18,
   "id": "d74cf65a",
   "metadata": {
    "lines_to_next_cell": 0
   },
   "outputs": [
    {
     "data": {
      "text/plain": [
       "Text(0, 0.5, 'correlation coefficient')"
      ]
     },
     "execution_count": 18,
     "metadata": {},
     "output_type": "execute_result"
    },
    {
     "data": {
      "image/png": "[encoded data removed]",
      "text/plain": [
       "<Figure size 432x288 with 1 Axes>"
      ]
     },
     "metadata": {
      "needs_background": "light"
     },
     "output_type": "display_data"
    }
   ],
   "source": [
    "sns.lineplot(x='length', y='cc', hue='out_resolution', data=full_df)\n",
    "plt.xlabel('number of acquisitions')\n",
    "plt.ylabel('correlation coefficient')"
   ]
  },
  {
   "cell_type": "code",
   "execution_count": null,
   "id": "033bd194",
   "metadata": {},
   "outputs": [],
   "source": []
  }
 ],
 "metadata": {
  "interpreter": {
   "hash": "1b65d7a4116ec1ef91a04d2f7474c6fcf806d7b014085de80686041f291d62b9"
  },
  "jupytext": {
   "cell_metadata_filter": "-all",
   "main_language": "python",
   "notebook_metadata_filter": "-all"
  },
  "kernelspec": {
   "display_name": "Python 3.8.13 ('brainsss')",
   "language": "python",
   "name": "python3"
  },
  "language_info": {
   "codemirror_mode": {
    "name": "ipython",
    "version": 3
   },
   "file_extension": ".py",
   "mimetype": "text/x-python",
   "name": "python",
   "nbconvert_exporter": "python",
   "pygments_lexer": "ipython3",
   "version": "3.8.13"
  }
 },
 "nbformat": 4,
 "nbformat_minor": 5
}
