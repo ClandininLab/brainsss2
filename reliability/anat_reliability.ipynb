{
 "cells": [
  {
   "cell_type": "markdown",
   "id": "5b9c388f",
   "metadata": {
    "lines_to_next_cell": 2
   },
   "source": [
    "Testing reliability of anatomical signals in relation to number of acquisitions"
   ]
  },
  {
   "cell_type": "code",
   "execution_count": 1,
   "id": "624d5edb",
   "metadata": {},
   "outputs": [],
   "source": [
    "import nibabel as nib\n",
    "import os\n",
    "from brainsss2.imgmath import imgmath\n",
    "import ants\n",
    "import numpy as np\n",
    "import matplotlib.pyplot as plt\n",
    "import pandas as pd"
   ]
  },
  {
   "cell_type": "code",
   "execution_count": 2,
   "id": "006eeb68",
   "metadata": {},
   "outputs": [],
   "source": [
    "basedir = '/data/brainsss/processed/fly_001/anat_0/imaging/'\n",
    "\n",
    "origfile = os.path.join(basedir, 'anatomy_channel_1.nii')\n",
    "meanfile = os.path.join(basedir, 'anatomy_channel_1_mean.nii')\n",
    "if not os.path.exists(meanfile):\n",
    "    meanfile = imgmath(origfile, 'mean')\n",
    "\n",
    "meanimg = nib.load(meanfile)\n",
    "\n",
    "# get mask to select voxels\n",
    "maskfile = meanfile.replace('_mean.nii', '_mask.nii')\n",
    "if not os.path.exists(maskfile):\n",
    "    meanimg_ants = ants.image_read(meanfile)\n",
    "    mask_ants = ants.get_mask(meanimg_ants,\n",
    "        low_thresh=None,\n",
    "        cleanup=4)\n",
    "    mask_img = mask_ants.to_nibabel()\n",
    "    mask_img.header.set_data_dtype('uint8')\n",
    "    mask_img.header.set_zooms(meanimg.header.get_zooms())\n",
    "    mask_img.header.set_qform(meanimg.header.get_qform())\n",
    "    mask_img.header.set_sform(meanimg.header.get_sform())\n",
    "    mask_img.header.set_xyzt_units('mm', 'sec')\n",
    "    mask_img.to_filename(maskfile)\n",
    "else:\n",
    "    mask_img = nib.load(maskfile)\n",
    "\n"
   ]
  },
  {
   "cell_type": "code",
   "execution_count": 3,
   "id": "b4cc2fb9",
   "metadata": {
    "lines_to_next_cell": 2
   },
   "outputs": [],
   "source": [
    "# compute reliability of random samples of varying size\n",
    "\n",
    "origimg = nib.load(origfile)\n",
    "\n",
    "def get_flattened_data(img, mask, start, length):\n",
    "    data = img.dataobj[:, :, :,start:(start + length)]\n",
    "    meandata = data.mean(axis=-1)\n",
    "    maskdata = mask_img.get_fdata().astype(\"int\")\n",
    "    return(meandata[maskdata==1])\n",
    "\n",
    "if 1:\n",
    "    # get two sets of data\n",
    "    starts = [0, int(origimg.shape[-1]/2)]\n",
    "    cc = {}\n",
    "    for length in range(1,50):\n",
    "        data_vec = {}\n",
    "        for i, start in enumerate(starts):\n",
    "            data_vec[i] = get_flattened_data(\n",
    "                origimg, mask_img, start, length)\n",
    "        cc[length] = np.corrcoef(data_vec[0], data_vec[1])[0,1]\n",
    "        # print(f'{length} {cc[length]}')"
   ]
  },
  {
   "cell_type": "code",
   "execution_count": 4,
   "id": "b6142015",
   "metadata": {},
   "outputs": [],
   "source": [
    "\n",
    "cc_df = pd.DataFrame(cc.items(), columns=['length', 'cc'])"
   ]
  },
  {
   "cell_type": "code",
   "execution_count": 5,
   "id": "d74cf65a",
   "metadata": {
    "lines_to_next_cell": 0
   },
   "outputs": [
    {
     "data": {
      "text/plain": [
       "Text(0, 0.5, 'correlation coefficient')"
      ]
     },
     "execution_count": 5,
     "metadata": {},
     "output_type": "execute_result"
    },
    {
     "data": {
      "image/png": "[encoded data removed]",
      "text/plain": [
       "<Figure size 432x288 with 1 Axes>"
      ]
     },
     "metadata": {
      "needs_background": "light"
     },
     "output_type": "display_data"
    }
   ],
   "source": [
    "plt.plot(cc_df.length, cc_df.cc)\n",
    "plt.xlabel('number of acquisitions')\n",
    "plt.ylabel('correlation coefficient')"
   ]
  },
  {
   "cell_type": "code",
   "execution_count": null,
   "id": "aebf206b",
   "metadata": {},
   "outputs": [],
   "source": []
  }
 ],
 "metadata": {
  "interpreter": {
   "hash": "1b65d7a4116ec1ef91a04d2f7474c6fcf806d7b014085de80686041f291d62b9"
  },
  "jupytext": {
   "cell_metadata_filter": "-all",
   "main_language": "python",
   "notebook_metadata_filter": "-all"
  },
  "kernelspec": {
   "display_name": "Python 3.8.13 ('brainsss')",
   "language": "python",
   "name": "python3"
  },
  "language_info": {
   "codemirror_mode": {
    "name": "ipython",
    "version": 3
   },
   "file_extension": ".py",
   "mimetype": "text/x-python",
   "name": "python",
   "nbconvert_exporter": "python",
   "pygments_lexer": "ipython3",
   "version": "3.8.13"
  }
 },
 "nbformat": 4,
 "nbformat_minor": 5
}
