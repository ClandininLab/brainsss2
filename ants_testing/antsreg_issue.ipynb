{
 "cells": [
  {
   "cell_type": "markdown",
   "id": "e832dd37-dec7-4835-8471-1609240d28e0",
   "metadata": {},
   "source": [
    "## Issue with ants.registration\n"
   ]
  },
  {
   "cell_type": "code",
   "execution_count": 2,
   "id": "23c14528-269c-4f16-a2d5-33a79ed9fa58",
   "metadata": {},
   "outputs": [],
   "source": [
    "import ants\n",
    "import numpy as np"
   ]
  },
  {
   "cell_type": "code",
   "execution_count": 3,
   "id": "ad365ddd-7019-485f-ae6b-b8e83ffaad3b",
   "metadata": {},
   "outputs": [
    {
     "data": {
      "text/plain": [
       "ANTsImage\n",
       "\t Pixel Type : float (float32)\n",
       "\t Components : 1\n",
       "\t Dimensions : (10, 10, 10, 20)\n",
       "\t Spacing    : (1.0, 1.0, 1.0, 1.0)\n",
       "\t Origin     : (0.0, 0.0, 0.0, 0.0)\n",
       "\t Direction  : [1. 0. 0. 0. 0. 1. 0. 0. 0. 0. 1. 0. 0. 0. 0. 1.]"
      ]
     },
     "execution_count": 3,
     "metadata": {},
     "output_type": "execute_result"
    }
   ],
   "source": [
    "data_4d = ants.from_numpy(np.random.randn(10, 10, 10, 20))\n",
    "data_4d"
   ]
  },
  {
   "cell_type": "code",
   "execution_count": 4,
   "id": "7ccc746a-191b-4a1e-9613-8df9bad501dc",
   "metadata": {},
   "outputs": [
    {
     "data": {
      "text/plain": [
       "ANTsImage (RAI)\n",
       "\t Pixel Type : float (float32)\n",
       "\t Components : 1\n",
       "\t Dimensions : (10, 10, 10)\n",
       "\t Spacing    : (1.0, 1.0, 1.0)\n",
       "\t Origin     : (0.0, 0.0, 0.0)\n",
       "\t Direction  : [1. 0. 0. 0. 1. 0. 0. 0. 1.]"
      ]
     },
     "execution_count": 4,
     "metadata": {},
     "output_type": "execute_result"
    }
   ],
   "source": [
    "meandata = ants.from_numpy(data_4d.mean(axis=-1))\n",
    "meandata"
   ]
  },
  {
   "cell_type": "code",
   "execution_count": 4,
   "id": "b2899e05-81dd-44a4-9262-423923db5f12",
   "metadata": {},
   "outputs": [
    {
     "name": "stdout",
     "output_type": "stream",
     "text": [
      "All_Command_lines_OK\n",
      "Using single precision for computations.\n"
     ]
    },
    {
     "name": "stderr",
     "output_type": "stream",
     "text": [
      "Exception Object caught: \n",
      "\n",
      "itk::ExceptionObject (0x7ff2cb009110)\n",
      "Location: \"unknown\" \n",
      "File: /Users/stnava/code/antspyrelease/3.8.12/ANTsPy3.8.12/ANTsPy/itksource/Modules/Core/Common/include/itkImageBase.hxx\n",
      "Line: 301\n",
      "Description: ITK ERROR: Image(0x7ff1fad7dca0): itk::ImageBase::CopyInformation() cannot cast PKN3itk10DataObjectE to PKN3itk9ImageBaseILj3EEE\n",
      "\n",
      "\n"
     ]
    }
   ],
   "source": [
    "antsreg = ants.registration(fixed=meandata, moving=data_4d,\n",
    "                            type_of_transform='Rigid', verbose=True)"
   ]
  },
  {
   "cell_type": "code",
   "execution_count": null,
   "id": "a14cdc2c-c30f-4d3c-a4c7-0ebbf92518bb",
   "metadata": {},
   "outputs": [],
   "source": [
    "imgslice = ants.slice_image(data_4d, axis=-1, idx=0)"
   ]
  },
  {
   "cell_type": "code",
   "execution_count": 5,
   "id": "bb81463e-3cfb-4257-ab1b-09190f175012",
   "metadata": {},
   "outputs": [
    {
     "name": "stdout",
     "output_type": "stream",
     "text": [
      "All_Command_lines_OK\n",
      "Using single precision for computations.\n",
      "=============================================================================\n",
      "The composite transform comprises the following transforms (in order): \n",
      "  1. Center of mass alignment using fixed image: 0x600001f23b10 and moving image: 0x600001f23b00 (type = Euler3DTransform)\n",
      "=============================================================================\n",
      "  Reading mask(s).\n",
      "    Registration stage 0\n",
      "      No fixed mask\n",
      "      No moving mask\n",
      "  number of levels = 4\n",
      "  fixed image: 0x600001f23b10\n",
      "  moving image: 0x600001f23b00\n",
      "Dimension = 3\n",
      "Number of stages = 1\n",
      "Use Histogram Matching true\n",
      "Winsorize image intensities false\n",
      "Lower quantile = 0\n",
      "Upper quantile = 1\n",
      "Stage 1 State\n",
      "   Image metric = Mattes\n",
      "     Fixed image = Image (0x7fb0af1ce0c0)\n",
      "  RTTI typeinfo:   itk::Image<float, 3u>\n",
      "  Reference Count: 2\n",
      "  Modified Time: 912\n",
      "  Debug: Off\n",
      "  Object Name: \n",
      "  Observers: \n",
      "    none\n",
      "  Source: (none)\n",
      "  Source output name: (none)\n",
      "  Release Data: Off\n",
      "  Data Released: False\n",
      "  Global Release Data: Off\n",
      "  PipelineMTime: 0\n",
      "  UpdateMTime: 888\n",
      "  RealTimeStamp: 0 seconds \n",
      "  LargestPossibleRegion: \n",
      "    Dimension: 3\n",
      "    Index: [0, 0, 0]\n",
      "    Size: [10, 10, 10]\n",
      "  BufferedRegion: \n",
      "    Dimension: 3\n",
      "    Index: [0, 0, 0]\n",
      "    Size: [10, 10, 10]\n",
      "  RequestedRegion: \n",
      "    Dimension: 3\n",
      "    Index: [0, 0, 0]\n",
      "    Size: [10, 10, 10]\n",
      "  Spacing: [1, 1, 1]\n",
      "  Origin: [0, 0, 0]\n",
      "  Direction: \n",
      "1 0 0\n",
      "0 1 0\n",
      "0 0 1\n",
      "\n",
      "  IndexToPointMatrix: \n",
      "1 0 0\n",
      "0 1 0\n",
      "0 0 1\n",
      "\n",
      "  PointToIndexMatrix: \n",
      "1 0 0\n",
      "0 1 0\n",
      "0 0 1\n",
      "\n",
      "  Inverse Direction: \n",
      "1 0 0\n",
      "0 1 0\n",
      "0 0 1\n",
      "\n",
      "  PixelContainer: \n",
      "    ImportImageContainer (0x60000375c720)\n",
      "      RTTI typeinfo:   itk::ImportImageContainer<unsigned long, float>\n",
      "      Reference Count: 1\n",
      "      Modified Time: 886\n",
      "      Debug: Off\n",
      "      Object Name: \n",
      "      Observers: \n",
      "        none\n",
      "      Pointer: 0x7fb16f233000\n",
      "      Container manages memory: true\n",
      "      Size: 1000\n",
      "      Capacity: 1000\n",
      "\n",
      "     Moving image = Image (0x7fb09f42f7e0)\n",
      "  RTTI typeinfo:   itk::Image<float, 3u>\n",
      "  Reference Count: 2\n",
      "  Modified Time: 913\n",
      "  Debug: Off\n",
      "  Object Name: \n",
      "  Observers: \n",
      "    none\n",
      "  Source: (none)\n",
      "  Source output name: (none)\n",
      "  Release Data: Off\n",
      "  Data Released: False\n",
      "  Global Release Data: Off\n",
      "  PipelineMTime: 0\n",
      "  UpdateMTime: 910\n",
      "  RealTimeStamp: 0 seconds \n",
      "  LargestPossibleRegion: \n",
      "    Dimension: 3\n",
      "    Index: [0, 0, 0]\n",
      "    Size: [10, 10, 10]\n",
      "  BufferedRegion: \n",
      "    Dimension: 3\n",
      "    Index: [0, 0, 0]\n",
      "    Size: [10, 10, 10]\n",
      "  RequestedRegion: \n",
      "    Dimension: 3\n",
      "    Index: [0, 0, 0]\n",
      "    Size: [10, 10, 10]\n",
      "  Spacing: [1, 1, 1]\n",
      "  Origin: [0, 0, 0]\n",
      "  Direction: \n",
      "1 0 0\n",
      "0 1 0\n",
      "0 0 1\n",
      "\n",
      "  IndexToPointMatrix: \n",
      "1 0 0\n",
      "0 1 0\n",
      "0 0 1\n",
      "\n",
      "  PointToIndexMatrix: \n",
      "1 0 0\n",
      "0 1 0\n",
      "0 0 1\n",
      "\n",
      "  Inverse Direction: \n",
      "1 0 0\n",
      "0 1 0\n",
      "0 0 1\n",
      "\n",
      "  PixelContainer: \n",
      "    ImportImageContainer (0x6000038f9560)\n",
      "      RTTI typeinfo:   itk::ImportImageContainer<unsigned long, float>\n",
      "      Reference Count: 1\n",
      "      Modified Time: 908\n",
      "      Debug: Off\n",
      "      Object Name: \n",
      "      Observers: \n",
      "        none\n",
      "      Pointer: 0x7fb13fd1fa00\n",
      "      Container manages memory: true\n",
      "      Size: 1000\n",
      "      Capacity: 1000\n",
      "\n",
      "     Weighting = 1\n",
      "     Sampling strategy = regular\n",
      "     Number of bins = 32\n",
      "     Radius = 4\n",
      "     Sampling percentage  = 0.2\n",
      "   Transform = Rigid\n",
      "     Gradient step = 0.25\n",
      "     Update field sigma (voxel space) = 0\n",
      "     Total field sigma (voxel space) = 0\n",
      "     Update field time sigma = 0\n",
      "     Total field time sigma  = 0\n",
      "     Number of time indices = 0\n",
      "     Number of time point samples = 0\n",
      "Registration using 1 total stages.\n",
      "\n",
      "Stage 0\n",
      "  iterations = 2100x1200x1200x10\n",
      "  convergence threshold = 1e-06\n",
      "  convergence window size = 10\n",
      "  number of levels = 4\n",
      "  using the Mattes MI metric (number of bins = 32, weight = 1)\n",
      "  preprocessing:  histogram matching the images\n",
      "  Shrink factors (level 1 out of 4): [6, 6, 6]\n",
      "  Shrink factors (level 2 out of 4): [4, 4, 4]\n",
      "  Shrink factors (level 3 out of 4): [2, 2, 2]\n",
      "  Shrink factors (level 4 out of 4): [1, 1, 1]\n",
      "  smoothing sigmas per level: [3, 2, 1, 0]\n",
      "  regular sampling (percentage = 0.2)\n",
      "\n",
      "*** Running Euler3DTransform registration ***\n",
      "\n",
      "Exception caught: \n",
      "itk::ExceptionObject (0x7fb13efe6a90)\n",
      "Location: \"unknown\" \n",
      "File: /Users/stnava/code/antspyrelease/3.8.12/ANTsPy3.8.12/ANTsPy/itksource/Modules/Core/Common/include/itkImageBase.hxx\n",
      "Line: 79\n",
      "Description: ITK ERROR: Image(0x7fb0af38f4c0): Zero-valued spacing is not supported and may result in undefined behavior.\n",
      "Refusing to change spacing from [1, 1] to [0, 0.00268204]\n",
      "\n",
      "\n",
      "  Elapsed time (stage 0): 0.00601077\n",
      "\n",
      "\n",
      "Total elapsed time: 0.00774097\n"
     ]
    }
   ],
   "source": [
    "antsreg = ants.registration(fixed=meandata, \n",
    "                            moving=meandata,\n",
    "                            type_of_transform='Rigid', verbose=True)"
   ]
  },
  {
   "cell_type": "code",
   "execution_count": 5,
   "id": "2e8c7ccb-3212-4209-9d17-bec614e12011",
   "metadata": {},
   "outputs": [
    {
     "data": {
      "text/plain": [
       "\u001b[0;31mSignature:\u001b[0m \u001b[0mants\u001b[0m\u001b[0;34m.\u001b[0m\u001b[0mslice_image\u001b[0m\u001b[0;34m(\u001b[0m\u001b[0mimage\u001b[0m\u001b[0;34m,\u001b[0m \u001b[0maxis\u001b[0m\u001b[0;34m=\u001b[0m\u001b[0;32mNone\u001b[0m\u001b[0;34m,\u001b[0m \u001b[0midx\u001b[0m\u001b[0;34m=\u001b[0m\u001b[0;32mNone\u001b[0m\u001b[0;34m)\u001b[0m\u001b[0;34m\u001b[0m\u001b[0;34m\u001b[0m\u001b[0m\n",
       "\u001b[0;31mDocstring:\u001b[0m\n",
       "Slice an image.\n",
       "\n",
       "Example\n",
       "-------\n",
       ">>> import ants\n",
       ">>> mni = ants.image_read(ants.get_data('mni'))\n",
       ">>> mni2 = ants.slice_image(mni, axis=1, idx=100)\n",
       "\u001b[0;31mFile:\u001b[0m      ~/anaconda3/envs/brainsss/lib/python3.8/site-packages/ants/utils/slice_image.py\n",
       "\u001b[0;31mType:\u001b[0m      function\n"
      ]
     },
     "metadata": {},
     "output_type": "display_data"
    }
   ],
   "source": [
    "?ants.slice_image"
   ]
  },
  {
   "cell_type": "markdown",
   "id": "b7449a4a-09ed-402b-9281-8cc5e0b43bbb",
   "metadata": {},
   "source": [
    "The warpedmovout slot has an image that is the same size as the fixed image, and the warpedfixout slot has an image that is the same size as the moving image:"
   ]
  },
  {
   "cell_type": "code",
   "execution_count": 11,
   "id": "7fb78404-544b-4448-a42b-b8a502c0fc6c",
   "metadata": {},
   "outputs": [
    {
     "data": {
      "text/plain": [
       "{'warpedmovout': ANTsImage (RAI)\n",
       " \t Pixel Type : float (float32)\n",
       " \t Components : 1\n",
       " \t Dimensions : (10, 10, 10)\n",
       " \t Spacing    : (1.0, 1.0, 1.0)\n",
       " \t Origin     : (0.0, 0.0, 0.0)\n",
       " \t Direction  : [1. 0. 0. 0. 1. 0. 0. 0. 1.],\n",
       " 'warpedfixout': ANTsImage\n",
       " \t Pixel Type : float (float32)\n",
       " \t Components : 1\n",
       " \t Dimensions : (10, 10, 10, 20)\n",
       " \t Spacing    : (1.0, 1.0, 1.0, 1.0)\n",
       " \t Origin     : (0.0, 0.0, 0.0, 0.0)\n",
       " \t Direction  : [1. 0. 0. 0. 0. 1. 0. 0. 0. 0. 1. 0. 0. 0. 0. 1.],\n",
       " 'fwdtransforms': [],\n",
       " 'invtransforms': []}"
      ]
     },
     "execution_count": 11,
     "metadata": {},
     "output_type": "execute_result"
    }
   ],
   "source": [
    "antsreg"
   ]
  },
  {
   "cell_type": "markdown",
   "id": "8ee1f1da-1d73-4e74-8309-607fc97fd3f3",
   "metadata": {},
   "source": [
    "Confirm that warpedfixout is identical to the original 4d data"
   ]
  },
  {
   "cell_type": "code",
   "execution_count": 9,
   "id": "04d9ce31-d717-4dbb-8603-de3ceecc769c",
   "metadata": {},
   "outputs": [
    {
     "data": {
      "text/plain": [
       "0.0"
      ]
     },
     "execution_count": 9,
     "metadata": {},
     "output_type": "execute_result"
    }
   ],
   "source": [
    "idx=0\n",
    "ants.image_similarity(\n",
    "            ants.utils.slice_image(antsreg['warpedfixout'], axis=3, idx=idx),\n",
    "            ants.utils.slice_image(data_4d, axis=3, idx=idx))"
   ]
  },
  {
   "cell_type": "markdown",
   "id": "b5885344-2c61-4147-8156-4cd5f3e16566",
   "metadata": {},
   "source": [
    "However, warpedmovout is not an exact copy of meandata."
   ]
  },
  {
   "cell_type": "code",
   "execution_count": 14,
   "id": "6324b7fe-f3ff-4b64-8992-79e3b7599a0f",
   "metadata": {},
   "outputs": [
    {
     "data": {
      "text/plain": [
       "0.037901319563388824"
      ]
     },
     "execution_count": 14,
     "metadata": {},
     "output_type": "execute_result"
    }
   ],
   "source": [
    "ants.image_similarity(\n",
    "            antsreg['warpedmovout'],\n",
    "            meandata)"
   ]
  },
  {
   "cell_type": "code",
   "execution_count": null,
   "id": "4bea0d36-177d-4db2-b973-da8f3c489fd6",
   "metadata": {},
   "outputs": [],
   "source": []
  }
 ],
 "metadata": {
  "kernelspec": {
   "display_name": "Python 3 (ipykernel)",
   "language": "python",
   "name": "python3"
  },
  "language_info": {
   "codemirror_mode": {
    "name": "ipython",
    "version": 3
   },
   "file_extension": ".py",
   "mimetype": "text/x-python",
   "name": "python",
   "nbconvert_exporter": "python",
   "pygments_lexer": "ipython3",
   "version": "3.8.13"
  }
 },
 "nbformat": 4,
 "nbformat_minor": 5
}
