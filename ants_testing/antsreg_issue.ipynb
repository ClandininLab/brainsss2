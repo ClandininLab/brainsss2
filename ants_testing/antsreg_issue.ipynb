{
 "cells": [
  {
   "cell_type": "markdown",
   "id": "e832dd37-dec7-4835-8471-1609240d28e0",
   "metadata": {},
   "source": [
    "## Issue with ants.registration\n"
   ]
  },
  {
   "cell_type": "code",
   "execution_count": 1,
   "id": "23c14528-269c-4f16-a2d5-33a79ed9fa58",
   "metadata": {},
   "outputs": [],
   "source": [
    "import ants\n",
    "import numpy as np"
   ]
  },
  {
   "cell_type": "code",
   "execution_count": 12,
   "id": "ad365ddd-7019-485f-ae6b-b8e83ffaad3b",
   "metadata": {},
   "outputs": [
    {
     "data": {
      "text/plain": [
       "ANTsImage\n",
       "\t Pixel Type : float (float32)\n",
       "\t Components : 1\n",
       "\t Dimensions : (10, 10, 10, 20)\n",
       "\t Spacing    : (1.0, 1.0, 1.0, 1.0)\n",
       "\t Origin     : (0.0, 0.0, 0.0, 0.0)\n",
       "\t Direction  : [1. 0. 0. 0. 0. 1. 0. 0. 0. 0. 1. 0. 0. 0. 0. 1.]"
      ]
     },
     "execution_count": 12,
     "metadata": {},
     "output_type": "execute_result"
    }
   ],
   "source": [
    "data_4d = ants.from_numpy(np.random.randn(10, 10, 10, 20))\n",
    "data_4d"
   ]
  },
  {
   "cell_type": "code",
   "execution_count": 13,
   "id": "7ccc746a-191b-4a1e-9613-8df9bad501dc",
   "metadata": {},
   "outputs": [
    {
     "data": {
      "text/plain": [
       "ANTsImage (RAI)\n",
       "\t Pixel Type : float (float32)\n",
       "\t Components : 1\n",
       "\t Dimensions : (10, 10, 10)\n",
       "\t Spacing    : (1.0, 1.0, 1.0)\n",
       "\t Origin     : (0.0, 0.0, 0.0)\n",
       "\t Direction  : [1. 0. 0. 0. 1. 0. 0. 0. 1.]"
      ]
     },
     "execution_count": 13,
     "metadata": {},
     "output_type": "execute_result"
    }
   ],
   "source": [
    "meandata = ants.from_numpy(data_4d.mean(axis=-1))\n",
    "meandata"
   ]
  },
  {
   "cell_type": "code",
   "execution_count": 10,
   "id": "b2899e05-81dd-44a4-9262-423923db5f12",
   "metadata": {},
   "outputs": [],
   "source": [
    "antsreg = ants.registration(fixed=meandata, moving=data_4d,\n",
    "                            type_of_transform='Rigid', verbose=True)"
   ]
  },
  {
   "cell_type": "markdown",
   "id": "b7449a4a-09ed-402b-9281-8cc5e0b43bbb",
   "metadata": {},
   "source": [
    "The warpedmovout slot has an image that is the same size as the fixed image, and the warpedfixout slot has an image that is the same size as the moving image:"
   ]
  },
  {
   "cell_type": "code",
   "execution_count": 11,
   "id": "7fb78404-544b-4448-a42b-b8a502c0fc6c",
   "metadata": {},
   "outputs": [
    {
     "data": {
      "text/plain": [
       "{'warpedmovout': ANTsImage (RAI)\n",
       " \t Pixel Type : float (float32)\n",
       " \t Components : 1\n",
       " \t Dimensions : (10, 10, 10)\n",
       " \t Spacing    : (1.0, 1.0, 1.0)\n",
       " \t Origin     : (0.0, 0.0, 0.0)\n",
       " \t Direction  : [1. 0. 0. 0. 1. 0. 0. 0. 1.],\n",
       " 'warpedfixout': ANTsImage\n",
       " \t Pixel Type : float (float32)\n",
       " \t Components : 1\n",
       " \t Dimensions : (10, 10, 10, 20)\n",
       " \t Spacing    : (1.0, 1.0, 1.0, 1.0)\n",
       " \t Origin     : (0.0, 0.0, 0.0, 0.0)\n",
       " \t Direction  : [1. 0. 0. 0. 0. 1. 0. 0. 0. 0. 1. 0. 0. 0. 0. 1.],\n",
       " 'fwdtransforms': [],\n",
       " 'invtransforms': []}"
      ]
     },
     "execution_count": 11,
     "metadata": {},
     "output_type": "execute_result"
    }
   ],
   "source": [
    "antsreg"
   ]
  },
  {
   "cell_type": "markdown",
   "id": "8ee1f1da-1d73-4e74-8309-607fc97fd3f3",
   "metadata": {},
   "source": [
    "Confirm that warpedfixout is identical to the original 4d data"
   ]
  },
  {
   "cell_type": "code",
   "execution_count": 9,
   "id": "04d9ce31-d717-4dbb-8603-de3ceecc769c",
   "metadata": {},
   "outputs": [
    {
     "data": {
      "text/plain": [
       "0.0"
      ]
     },
     "execution_count": 9,
     "metadata": {},
     "output_type": "execute_result"
    }
   ],
   "source": [
    "idx=0\n",
    "ants.image_similarity(\n",
    "            ants.utils.slice_image(antsreg['warpedfixout'], axis=3, idx=idx),\n",
    "            ants.utils.slice_image(data_4d, axis=3, idx=idx))"
   ]
  },
  {
   "cell_type": "markdown",
   "id": "b5885344-2c61-4147-8156-4cd5f3e16566",
   "metadata": {},
   "source": [
    "However, warpedmovout is not an exact copy of meandata."
   ]
  },
  {
   "cell_type": "code",
   "execution_count": 14,
   "id": "6324b7fe-f3ff-4b64-8992-79e3b7599a0f",
   "metadata": {},
   "outputs": [
    {
     "data": {
      "text/plain": [
       "0.037901319563388824"
      ]
     },
     "execution_count": 14,
     "metadata": {},
     "output_type": "execute_result"
    }
   ],
   "source": [
    "ants.image_similarity(\n",
    "            antsreg['warpedmovout'],\n",
    "            meandata)"
   ]
  },
  {
   "cell_type": "code",
   "execution_count": null,
   "id": "4bea0d36-177d-4db2-b973-da8f3c489fd6",
   "metadata": {},
   "outputs": [],
   "source": []
  }
 ],
 "metadata": {
  "kernelspec": {
   "display_name": "Python 3",
   "language": "python",
   "name": "python3"
  },
  "language_info": {
   "codemirror_mode": {
    "name": "ipython",
    "version": 3
   },
   "file_extension": ".py",
   "mimetype": "text/x-python",
   "name": "python",
   "nbconvert_exporter": "python",
   "pygments_lexer": "ipython3",
   "version": "3.8.8"
  }
 },
 "nbformat": 4,
 "nbformat_minor": 5
}
